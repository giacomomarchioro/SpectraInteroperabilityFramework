{
 "cells": [
  {
   "cell_type": "markdown",
   "id": "fiscal-lawsuit",
   "metadata": {},
   "source": [
    "# JCAMPX and ASD\n",
    "JCAMP uses some strange compression that are investigated in this notebook, the usage of this compression appear in  JCAMP-DX: A Standard Form r Exchange of Infrared Spectra in Computer Readable Form\n",
    ">(5.2) DATA COMPRESSION. TABULAR DATA can be compressed by (1) converting decimals to integers, (2) expressing data as differences between adjacent points, (3) combining duplicate ordinates, and (4) replacing leading digits by pseudo-digits which represent delimiter, sign, and the digit itself (Table VII). Subsequent digits of a multidigit number are standard ASCII digits.\n",
    "It is not necessary to specify ASDF forms separately, because the first character of each numerical value contains this information. A single software procedure can be written to decode any combination of the ASDF forms described below. The compressed forms can be encoded or decoded faster than ASCII digits alone, and also faster than most other forms of compressed data.\n",
    "\n",
    "In this tutorial we will investigate all the data compression strategies described in the paper.\n",
    "\n",
    "### ASCII FREE FORMAT NUMERIC\n",
    "This is the the simple way to store uncrompress numerical values is defined as follow:\n",
    "\n",
    ">(5.3) AFFN. ASDF processors should accept ASCII FREE FORMAT NUMERIC _[is similar to free-form input of BASIC. A field which starts with a +, -, decimal point, or digit is treated as a numeric field and converted to the internal form of the target computer. E is the only other allowed character. A numeric field is terminated by E, comma, or blank. If E is followed immediately by either + or - and a two- or three-digit integer, it gives the power of 10 by which the initial field must be multiplied.]_ to simplify user generation of JCAMP-DX files by systems which are not supported by manufacturers.\n",
    "\n",
    "This is implemented in most of the programming language casting rules:"
   ]
  },
  {
   "cell_type": "code",
   "execution_count": 2,
   "id": "congressional-observation",
   "metadata": {},
   "outputs": [
    {
     "data": {
      "text/plain": [
       "(0.34, 0.66)"
      ]
     },
     "execution_count": 2,
     "metadata": {},
     "output_type": "execute_result"
    }
   ],
   "source": [
    "eval(\".34,66E-2 \")"
   ]
  },
  {
   "cell_type": "code",
   "execution_count": 3,
   "id": "palestinian-consolidation",
   "metadata": {},
   "outputs": [
    {
     "data": {
      "text/plain": [
       "(1, 2, 3, 3, 2, 1, 0, -1, -2, -3)"
      ]
     },
     "execution_count": 3,
     "metadata": {},
     "output_type": "execute_result"
    }
   ],
   "source": [
    "FIXform = \"1 2 3 3 2 1 0 -1 -2 -3\"\n",
    "eval(FIXform.replace(\" \",\",\"))"
   ]
  },
  {
   "cell_type": "markdown",
   "id": "iraqi-ladder",
   "metadata": {},
   "source": [
    "### PACKED Form (PAC)\n",
    ">5.4) PACKED Form (PAC). Adjacent values are separated by + or - or blank.\n",
    "\n",
    "This form can be easly handeled with a simple replacements and split operations:"
   ]
  },
  {
   "cell_type": "code",
   "execution_count": 4,
   "id": "absent-basket",
   "metadata": {},
   "outputs": [
    {
     "data": {
      "text/plain": [
       "[1000.0, 2000.0, -2001.0, 2002.0, 2003.0, 2003.0, 2003.0]"
      ]
     },
     "execution_count": 4,
     "metadata": {},
     "output_type": "execute_result"
    }
   ],
   "source": [
    "startingPACstring = \"1000+2000-2001+2002 2003 2003 2003\"\n",
    "list(map(float,startingPACstring.replace(\"+\",\" +\").replace(\"-\",\" -\").split()))"
   ]
  },
  {
   "cell_type": "markdown",
   "id": "thick-receiver",
   "metadata": {},
   "source": [
    "Here we convert FIX form to PAC form:"
   ]
  },
  {
   "cell_type": "code",
   "execution_count": 5,
   "id": "successful-skiing",
   "metadata": {},
   "outputs": [
    {
     "data": {
      "text/plain": [
       "'1+2+3+3+2+1+0-1-2-3'"
      ]
     },
     "execution_count": 5,
     "metadata": {},
     "output_type": "execute_result"
    }
   ],
   "source": [
    "PACform1 = FIXform.replace(\" -\",\"-\").replace(\" \",\"+\")\n",
    "PACform1"
   ]
  },
  {
   "cell_type": "code",
   "execution_count": 6,
   "id": "digital-process",
   "metadata": {},
   "outputs": [
    {
     "data": {
      "text/plain": [
       "'1 2 3 3 2 1 0-1-2-3'"
      ]
     },
     "execution_count": 6,
     "metadata": {},
     "output_type": "execute_result"
    }
   ],
   "source": [
    "PACform2 = FIXform.replace(\" -\",\"-\")\n",
    "PACform2"
   ]
  },
  {
   "cell_type": "markdown",
   "id": "metric-despite",
   "metadata": {},
   "source": [
    "### SQUEEZED Form (SQZ)\n",
    ">(5.5) SQUEEZED Form (SQZ). Delimiter, leading digit, and sign are replaced by a pseudo-digit from Table VII, lines 2,3.\n",
    "\n",
    "For this form we have first to rebuild the lines 2,3 of the Table VII of the paper, this can be done with the following code:"
   ]
  },
  {
   "cell_type": "code",
   "execution_count": 7,
   "id": "naval-kuwait",
   "metadata": {},
   "outputs": [
    {
     "data": {
      "text/plain": [
       "{-9: 'i',\n",
       " -8: 'h',\n",
       " -7: 'g',\n",
       " -6: 'f',\n",
       " -5: 'e',\n",
       " -4: 'd',\n",
       " -3: 'c',\n",
       " -2: 'b',\n",
       " -1: 'a',\n",
       " 0: '@',\n",
       " 1: 'A',\n",
       " 2: 'B',\n",
       " 3: 'C',\n",
       " 4: 'D',\n",
       " 5: 'E',\n",
       " 6: 'F',\n",
       " 7: 'G',\n",
       " 8: 'H',\n",
       " 9: 'I'}"
      ]
     },
     "execution_count": 7,
     "metadata": {},
     "output_type": "execute_result"
    }
   ],
   "source": [
    "import string\n",
    "convstr = string.ascii_lowercase[:9][::-1] + \"@\"+ string.ascii_uppercase[:9]\n",
    "num = list(range(-9,10))\n",
    "SQZDIGIT = dict(zip(num,convstr))\n",
    "SQZDIGIT"
   ]
  },
  {
   "cell_type": "markdown",
   "id": "capital-reverse",
   "metadata": {},
   "source": [
    "We test the result on the string of the original paper in the FIX form, note that in all the following elaboration the first digit of the first number each line remains unchanged this is not well described in the paper. "
   ]
  },
  {
   "cell_type": "code",
   "execution_count": 8,
   "id": "colored-messaging",
   "metadata": {},
   "outputs": [
    {
     "data": {
      "text/plain": [
       "'1BCCBA@abc'"
      ]
     },
     "execution_count": 8,
     "metadata": {},
     "output_type": "execute_result"
    }
   ],
   "source": [
    "newstr = \"\"\n",
    "for ind,i in enumerate(FIXform.split()):\n",
    "    if ind == 0:\n",
    "        # note that the first digit remains unchanged\n",
    "        newstr+= i\n",
    "    else:\n",
    "        if i.startswith(\"-\"):\n",
    "            rep,rest = int(i[:2]),i[2:]\n",
    "        else:\n",
    "            rep,rest = int(i[0]),i[1:]\n",
    "        newstr+= SQZDIGIT[rep]+rest\n",
    "newstr"
   ]
  },
  {
   "cell_type": "markdown",
   "id": "disciplinary-backup",
   "metadata": {},
   "source": [
    "### (5.6) DIFFERENCE Form (DIF)\n",
    ">(5.6) DIFFERENCE Form (DIF). Delimiter, leading digit, and sign of the difference between adjacent values are represented by a pseudo-digit from Table VII, lines 4,5. The abscissa at the start of each line is in AFFN form, and the first ordinate is an actual value in SQZ form. Remaining ordinates are differences, in DIF form.\n",
    "\n",
    "Also in this case we need to build a dictionary with the values of line 4 and 5 of the Table VII of the paper:"
   ]
  },
  {
   "cell_type": "code",
   "execution_count": 9,
   "id": "insured-implementation",
   "metadata": {},
   "outputs": [],
   "source": [
    "import string\n",
    "import numpy as np"
   ]
  },
  {
   "cell_type": "code",
   "execution_count": 10,
   "id": "seasonal-egyptian",
   "metadata": {},
   "outputs": [
    {
     "data": {
      "text/plain": [
       "{-9: 'r',\n",
       " -8: 'q',\n",
       " -7: 'p',\n",
       " -6: 'o',\n",
       " -5: 'n',\n",
       " -4: 'm',\n",
       " -3: 'l',\n",
       " -2: 'k',\n",
       " -1: 'j',\n",
       " 0: '%',\n",
       " 1: 'J',\n",
       " 2: 'K',\n",
       " 3: 'L',\n",
       " 4: 'M',\n",
       " 5: 'N',\n",
       " 6: 'O',\n",
       " 7: 'P',\n",
       " 8: 'Q',\n",
       " 9: 'R'}"
      ]
     },
     "execution_count": 10,
     "metadata": {},
     "output_type": "execute_result"
    }
   ],
   "source": [
    "convstr = string.ascii_lowercase[9:18][::-1] + \"%\"+ string.ascii_uppercase[9:18]\n",
    "num = list(range(-9,10))\n",
    "DIFDIGIT = dict(zip(num,convstr))\n",
    "DIFDIGIT"
   ]
  },
  {
   "cell_type": "markdown",
   "id": "respective-aviation",
   "metadata": {},
   "source": [
    "We start from the FIXform string"
   ]
  },
  {
   "cell_type": "code",
   "execution_count": 11,
   "id": "settled-questionnaire",
   "metadata": {},
   "outputs": [
    {
     "data": {
      "text/plain": [
       "[1, 2, 3, 3, 2, 1, 0, -1, -2, -3]"
      ]
     },
     "execution_count": 11,
     "metadata": {},
     "output_type": "execute_result"
    }
   ],
   "source": [
    "FIXform = list(eval(FIXform.replace(\" \",\",\")))\n",
    "FIXform"
   ]
  },
  {
   "cell_type": "markdown",
   "id": "valued-integral",
   "metadata": {},
   "source": [
    "Then we compute the difference between the values"
   ]
  },
  {
   "cell_type": "code",
   "execution_count": 12,
   "id": "destroyed-asthma",
   "metadata": {},
   "outputs": [
    {
     "data": {
      "text/plain": [
       "[1, 1, 0, -1, -1, -1, -1, -1, -1]"
      ]
     },
     "execution_count": 12,
     "metadata": {},
     "output_type": "execute_result"
    }
   ],
   "source": [
    "diff = [FIXform[n]-FIXform[n-1] for n in range(1,len(FIXform))]\n",
    "diff"
   ]
  },
  {
   "cell_type": "markdown",
   "id": "relevant-replication",
   "metadata": {},
   "source": [
    "Is not clear from the definition but from the example in table VIIb that the first digit must be the same (not in SQZ form as in the definition)"
   ]
  },
  {
   "cell_type": "code",
   "execution_count": 13,
   "id": "latin-lender",
   "metadata": {},
   "outputs": [
    {
     "data": {
      "text/plain": [
       "'1JJ%jjjjjj'"
      ]
     },
     "execution_count": 13,
     "metadata": {},
     "output_type": "execute_result"
    }
   ],
   "source": [
    "newstr = \"\"\n",
    "for ind,i in enumerate(diff):\n",
    "    i = str(i)\n",
    "    if ind == 0:\n",
    "        # note that the first digit remains unchanged\n",
    "        # this will be added even though \"the first ordinate is an actual value in SQZ form\"\n",
    "        newstr+= i\n",
    "    if i.startswith(\"-\"):\n",
    "        rep,rest = int(i[:2]),i[2:]\n",
    "    else:\n",
    "        rep,rest = int(i[0]),i[1:]\n",
    "    newstr+= DIFDIGIT[rep]+rest\n",
    "newstr"
   ]
  },
  {
   "cell_type": "markdown",
   "id": "following-string",
   "metadata": {},
   "source": [
    "# DIFDUP Form\n",
    "Evneutually the DIFDUP Form is based on the duplicate suppression as follow:\n",
    "\n",
    ">(5.9) DUPLICATE SUPPRESSION (DUP). When two or more adjacent Y-values in a table are identical, all but the first are replaced by a duplicate-count whose initial digit is a pseudo-digit from Table VII line 6. Duplicate- count is the number of successive identical table values, including the first. It can be used with all ASDF forms. Count for four identical values is 4, i.e., 50 50 50 50 becomes 50V in DUP form.\n",
    ">(5.10) DIFDUP Form. When duplicate suppression is combined with difference form, the duplicate count is obtained by counting identical differences. The above example, 50 50 50 50, becomes 50% % % in DIF form, and 50 % U in DIFDUP form.\n",
    "DIFDUP form takes the least space and is processed most rapidly. However, spectral data in this form are not easily inspected visually."
   ]
  },
  {
   "cell_type": "code",
   "execution_count": 14,
   "id": "lovely-marks",
   "metadata": {},
   "outputs": [
    {
     "data": {
      "text/plain": [
       "{1: 'S', 2: 'T', 3: 'U', 4: 'V', 5: 'W', 6: 'X', 7: 'Y', 8: 'Z', 9: 's'}"
      ]
     },
     "execution_count": 14,
     "metadata": {},
     "output_type": "execute_result"
    }
   ],
   "source": [
    "convstr = string.ascii_uppercase[18:]+\"s\"\n",
    "num = list(range(1,10))\n",
    "POSITIVEDUP = dict(zip(num,convstr))\n",
    "POSITIVEDUP"
   ]
  },
  {
   "cell_type": "code",
   "execution_count": 18,
   "id": "embedded-happening",
   "metadata": {},
   "outputs": [
    {
     "name": "stdout",
     "output_type": "stream",
     "text": [
      "1 -> \n",
      "1\n",
      "J -> 1\n",
      "1\n",
      "J -> J\n",
      "% -> J\n",
      "2\n",
      "j -> %\n",
      "1\n",
      "j -> j\n",
      "j -> j\n",
      "j -> j\n",
      "j -> j\n",
      "j -> j\n"
     ]
    },
    {
     "data": {
      "text/plain": [
       "'1JT%jX'"
      ]
     },
     "execution_count": 18,
     "metadata": {},
     "output_type": "execute_result"
    }
   ],
   "source": [
    "last = \"\"\n",
    "counter = 1\n",
    "result = \"\"\n",
    "for i in newstr:\n",
    "    if i == last:\n",
    "        counter+=1\n",
    "        last = i\n",
    "    else:\n",
    "        dp = \"\"\n",
    "        if counter > 1:\n",
    "            dp = POSITIVEDUP[counter]\n",
    "        result+=last+dp\n",
    "        last = i\n",
    "        counter = 1\n",
    "if counter > 1:\n",
    "    dp = POSITIVEDUP[counter]\n",
    "    result+=last+dp\n",
    "    last = i\n",
    "result"
   ]
  },
  {
   "cell_type": "code",
   "execution_count": 81,
   "id": "centered-albuquerque",
   "metadata": {},
   "outputs": [
    {
     "data": {
      "text/plain": [
       "0"
      ]
     },
     "execution_count": 81,
     "metadata": {},
     "output_type": "execute_result"
    }
   ],
   "source": [
    "counter"
   ]
  },
  {
   "cell_type": "code",
   "execution_count": null,
   "id": "rolled-beatles",
   "metadata": {},
   "outputs": [],
   "source": []
  }
 ],
 "metadata": {
  "kernelspec": {
   "display_name": "Python 3",
   "language": "python",
   "name": "python3"
  },
  "language_info": {
   "codemirror_mode": {
    "name": "ipython",
    "version": 3
   },
   "file_extension": ".py",
   "mimetype": "text/x-python",
   "name": "python",
   "nbconvert_exporter": "python",
   "pygments_lexer": "ipython3",
   "version": "3.8.3"
  }
 },
 "nbformat": 4,
 "nbformat_minor": 5
}
